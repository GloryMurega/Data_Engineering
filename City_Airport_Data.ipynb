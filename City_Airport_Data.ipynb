{
 "cells": [
  {
   "cell_type": "markdown",
   "id": "c756bc9c-3a5e-4834-aec8-e3621b58ed6d",
   "metadata": {},
   "source": [
    "# Webscrapping for city data from Wikipedia"
   ]
  },
  {
   "cell_type": "code",
   "execution_count": 1,
   "id": "996ae62d-535e-49d4-a884-306bf90f3a3c",
   "metadata": {},
   "outputs": [],
   "source": [
    "import requests\n",
    "from bs4 import BeautifulSoup\n",
    "import pandas as pd\n",
    "import re\n",
    "\n",
    "# Initialize a pandas DataFrame with specified columns\n",
    "city_df = pd.DataFrame(columns=[\"city\", \"country\", \"population\", \"latitude\", \"longitude\"])\n",
    "\n",
    "# Function to scrape data from Wikipedia for a given city\n",
    "def citygrab(city):\n",
    "    # Construct the Wikipedia URL for the given city\n",
    "    url = f\"https://en.wikipedia.org/wiki/{city}\"\n",
    "\n",
    "    # Send a request to the URL and get the response\n",
    "    response = requests.get(url)\n",
    "\n",
    "    # Parse the response content using BeautifulSoup\n",
    "    soup_city = BeautifulSoup(response.content, 'html.parser')\n",
    "\n",
    "    # Initialize variables\n",
    "    population = country = latitude = longitude = None\n",
    "\n",
    "    # Extract population information\n",
    "    for header in soup_city.find_all(class_=\"infobox-header\"):\n",
    "        if header.find(string=re.compile(\"population\", re.IGNORECASE)):\n",
    "            population = header.find_next(class_=\"infobox-data\").text\n",
    "\n",
    "    # Extract country information\n",
    "    for merger in soup_city.find_all(class_=\"mergedtoprow\") + soup_city.find_all(class_=\"mergedrow\"):\n",
    "        if merger.find(string=re.compile(\"country\", re.IGNORECASE)):\n",
    "            country = merger.find_next(class_=\"infobox-data\").text\n",
    "\n",
    "    # Extract latitude and longitude information\n",
    "    for coords in soup_city.find_all(class_=\"infobox-full-data\"):\n",
    "        if coords.find(string=re.compile(\"Coordinates\", re.IGNORECASE)):\n",
    "            latitude = coords.find_next(class_=\"latitude\").text\n",
    "            longitude = coords.find_next(class_=\"longitude\").text\n",
    "\n",
    "    # Append the data as a new row to the city_df DataFrame\n",
    "    city_df.loc[len(city_df)] = {\n",
    "        \"city\": city.capitalize(),\n",
    "        \"country\": country,\n",
    "        \"population\": population,\n",
    "        \"latitude\": latitude,\n",
    "        \"longitude\": longitude\n",
    "    }\n",
    "\n",
    "# Define a list of city names you want to scrape data for\n",
    "city_names = [\"Berlin\", \"London\"]\n",
    "\n",
    "# Iterate through the list of city names and call the function for each city\n",
    "for city in city_names:\n",
    "    citygrab(city)"
   ]
  },
  {
   "cell_type": "code",
   "execution_count": 2,
   "id": "1e64c36e-5232-45fd-8652-ae310bf8d79b",
   "metadata": {},
   "outputs": [
    {
     "data": {
      "text/html": [
       "<div>\n",
       "<style scoped>\n",
       "    .dataframe tbody tr th:only-of-type {\n",
       "        vertical-align: middle;\n",
       "    }\n",
       "\n",
       "    .dataframe tbody tr th {\n",
       "        vertical-align: top;\n",
       "    }\n",
       "\n",
       "    .dataframe thead th {\n",
       "        text-align: right;\n",
       "    }\n",
       "</style>\n",
       "<table border=\"1\" class=\"dataframe\">\n",
       "  <thead>\n",
       "    <tr style=\"text-align: right;\">\n",
       "      <th></th>\n",
       "      <th>city</th>\n",
       "      <th>country</th>\n",
       "      <th>population</th>\n",
       "      <th>latitude</th>\n",
       "      <th>longitude</th>\n",
       "    </tr>\n",
       "  </thead>\n",
       "  <tbody>\n",
       "    <tr>\n",
       "      <th>0</th>\n",
       "      <td>Berlin</td>\n",
       "      <td>Germany</td>\n",
       "      <td>3,755,251</td>\n",
       "      <td>52°31′12″N</td>\n",
       "      <td>13°24′18″E</td>\n",
       "    </tr>\n",
       "    <tr>\n",
       "      <th>1</th>\n",
       "      <td>London</td>\n",
       "      <td>England</td>\n",
       "      <td>8,799,800[1]</td>\n",
       "      <td>51°30′26″N</td>\n",
       "      <td>0°7′39″W</td>\n",
       "    </tr>\n",
       "  </tbody>\n",
       "</table>\n",
       "</div>"
      ],
      "text/plain": [
       "     city  country    population    latitude   longitude\n",
       "0  Berlin  Germany     3,755,251  52°31′12″N  13°24′18″E\n",
       "1  London  England  8,799,800[1]  51°30′26″N    0°7′39″W"
      ]
     },
     "execution_count": 2,
     "metadata": {},
     "output_type": "execute_result"
    }
   ],
   "source": [
    "city_df"
   ]
  },
  {
   "cell_type": "code",
   "execution_count": 3,
   "id": "e19f2d94-53b7-44ae-93de-22b665f2a7d7",
   "metadata": {},
   "outputs": [
    {
     "data": {
      "text/html": [
       "<div>\n",
       "<style scoped>\n",
       "    .dataframe tbody tr th:only-of-type {\n",
       "        vertical-align: middle;\n",
       "    }\n",
       "\n",
       "    .dataframe tbody tr th {\n",
       "        vertical-align: top;\n",
       "    }\n",
       "\n",
       "    .dataframe thead th {\n",
       "        text-align: right;\n",
       "    }\n",
       "</style>\n",
       "<table border=\"1\" class=\"dataframe\">\n",
       "  <thead>\n",
       "    <tr style=\"text-align: right;\">\n",
       "      <th></th>\n",
       "      <th>city</th>\n",
       "      <th>country</th>\n",
       "      <th>population</th>\n",
       "      <th>latitude</th>\n",
       "      <th>longitude</th>\n",
       "    </tr>\n",
       "  </thead>\n",
       "  <tbody>\n",
       "    <tr>\n",
       "      <th>0</th>\n",
       "      <td>Berlin</td>\n",
       "      <td>Germany</td>\n",
       "      <td>3755251</td>\n",
       "      <td>52°31′12″N</td>\n",
       "      <td>13°24′18″E</td>\n",
       "    </tr>\n",
       "    <tr>\n",
       "      <th>1</th>\n",
       "      <td>London</td>\n",
       "      <td>England</td>\n",
       "      <td>8799800</td>\n",
       "      <td>51°30′26″N</td>\n",
       "      <td>0°7′39″W</td>\n",
       "    </tr>\n",
       "  </tbody>\n",
       "</table>\n",
       "</div>"
      ],
      "text/plain": [
       "     city  country  population    latitude   longitude\n",
       "0  Berlin  Germany     3755251  52°31′12″N  13°24′18″E\n",
       "1  London  England     8799800  51°30′26″N    0°7′39″W"
      ]
     },
     "execution_count": 3,
     "metadata": {},
     "output_type": "execute_result"
    }
   ],
   "source": [
    "#formating the data \n",
    "city_df['population'] = city_df['population'].str.replace('[1]','')\n",
    "city_df['population'] = city_df['population'].str.replace(',','')\n",
    "city_df[\"population\"] = pd.to_numeric(city_df[\"population\"])\n",
    "city_df"
   ]
  },
  {
   "cell_type": "code",
   "execution_count": 4,
   "id": "889a5837-b3e0-4e2a-be71-1526a5028936",
   "metadata": {},
   "outputs": [
    {
     "name": "stdout",
     "output_type": "stream",
     "text": [
      "<class 'pandas.core.frame.DataFrame'>\n",
      "Index: 2 entries, 0 to 1\n",
      "Data columns (total 5 columns):\n",
      " #   Column      Non-Null Count  Dtype \n",
      "---  ------      --------------  ----- \n",
      " 0   city        2 non-null      object\n",
      " 1   country     2 non-null      object\n",
      " 2   population  2 non-null      int64 \n",
      " 3   latitude    2 non-null      object\n",
      " 4   longitude   2 non-null      object\n",
      "dtypes: int64(1), object(4)\n",
      "memory usage: 96.0+ bytes\n"
     ]
    }
   ],
   "source": [
    "city_df.info()"
   ]
  },
  {
   "cell_type": "code",
   "execution_count": 5,
   "id": "58737fb5-3137-417c-a413-c7cf7c9689f7",
   "metadata": {},
   "outputs": [],
   "source": [
    "#creating a connection string to sql\n",
    "import my_stuff\n",
    "\n",
    "schema = \"gans\"\n",
    "host = \"127.0.0.1\"\n",
    "user = \"root\"\n",
    "password = my_stuff.my_sql_password\n",
    "port = 3306\n",
    "\n",
    "connection_string = f'mysql+pymysql://{user}:{password}@{host}:{port}/{schema}'"
   ]
  },
  {
   "cell_type": "code",
   "execution_count": 7,
   "id": "efb0f124-1959-46ba-b24e-02f43753febb",
   "metadata": {
    "scrolled": true
   },
   "outputs": [
    {
     "data": {
      "text/plain": [
       "2"
      ]
     },
     "execution_count": 7,
     "metadata": {},
     "output_type": "execute_result"
    }
   ],
   "source": [
    "#sending city data to city table in sql\n",
    "city_df.to_sql(name='city',if_exists='append',con=connection_string,index=False) "
   ]
  },
  {
   "cell_type": "markdown",
   "id": "4addcc65-aac2-4ae2-a19b-e661d89b4c61",
   "metadata": {},
   "source": [
    "# Creating the Airport data"
   ]
  },
  {
   "cell_type": "code",
   "execution_count": 8,
   "id": "6fdf4630-e7ec-4e97-b03e-9fe6bfca0459",
   "metadata": {},
   "outputs": [
    {
     "data": {
      "text/html": [
       "<div>\n",
       "<style scoped>\n",
       "    .dataframe tbody tr th:only-of-type {\n",
       "        vertical-align: middle;\n",
       "    }\n",
       "\n",
       "    .dataframe tbody tr th {\n",
       "        vertical-align: top;\n",
       "    }\n",
       "\n",
       "    .dataframe thead th {\n",
       "        text-align: right;\n",
       "    }\n",
       "</style>\n",
       "<table border=\"1\" class=\"dataframe\">\n",
       "  <thead>\n",
       "    <tr style=\"text-align: right;\">\n",
       "      <th></th>\n",
       "      <th>city_id</th>\n",
       "      <th>city</th>\n",
       "      <th>country</th>\n",
       "      <th>population</th>\n",
       "      <th>latitude</th>\n",
       "      <th>longitude</th>\n",
       "    </tr>\n",
       "  </thead>\n",
       "  <tbody>\n",
       "    <tr>\n",
       "      <th>0</th>\n",
       "      <td>1</td>\n",
       "      <td>Berlin</td>\n",
       "      <td>Germany</td>\n",
       "      <td>3755251</td>\n",
       "      <td>52°31′12″N</td>\n",
       "      <td>13°24′18″E</td>\n",
       "    </tr>\n",
       "    <tr>\n",
       "      <th>1</th>\n",
       "      <td>2</td>\n",
       "      <td>London</td>\n",
       "      <td>England</td>\n",
       "      <td>8799800</td>\n",
       "      <td>51°30′26″N</td>\n",
       "      <td>0°7′39″W</td>\n",
       "    </tr>\n",
       "  </tbody>\n",
       "</table>\n",
       "</div>"
      ],
      "text/plain": [
       "   city_id    city  country  population    latitude   longitude\n",
       "0        1  Berlin  Germany     3755251  52°31′12″N  13°24′18″E\n",
       "1        2  London  England     8799800  51°30′26″N    0°7′39″W"
      ]
     },
     "execution_count": 8,
     "metadata": {},
     "output_type": "execute_result"
    }
   ],
   "source": [
    "#read from sql\n",
    "cities_df = pd.read_sql('city',con=connection_string)\n",
    "cities_df"
   ]
  },
  {
   "cell_type": "code",
   "execution_count": 9,
   "id": "e81a6fc7-0424-4ca9-b08a-77aaeee5228b",
   "metadata": {},
   "outputs": [],
   "source": [
    "airports_dict = {'ICAO':[],'city_id':[]}\n",
    "\n",
    "icao_dict = { 'Berlin':'EDDB',\n",
    "             'London':'EGLL' }"
   ]
  },
  {
   "cell_type": "code",
   "execution_count": 10,
   "id": "1517d1be-be06-4a60-b5dc-39113b539bee",
   "metadata": {},
   "outputs": [],
   "source": [
    "for i, row in cities_df.iterrows():\n",
    "    airports_dict['city_id'].append(row['city_id'])\n",
    "    airports_dict['ICAO'].append(icao_dict[row['city']])"
   ]
  },
  {
   "cell_type": "code",
   "execution_count": 11,
   "id": "d3ff41df-797d-4e91-ad86-6d9ebef4d8b4",
   "metadata": {},
   "outputs": [
    {
     "data": {
      "text/plain": [
       "{'ICAO': ['EDDB', 'EGLL'], 'city_id': [1, 2]}"
      ]
     },
     "execution_count": 11,
     "metadata": {},
     "output_type": "execute_result"
    }
   ],
   "source": [
    "airports_dict"
   ]
  },
  {
   "cell_type": "code",
   "execution_count": 12,
   "id": "d7436be5-f020-49d8-a207-0e8c4d7f0ca0",
   "metadata": {},
   "outputs": [
    {
     "data": {
      "text/html": [
       "<div>\n",
       "<style scoped>\n",
       "    .dataframe tbody tr th:only-of-type {\n",
       "        vertical-align: middle;\n",
       "    }\n",
       "\n",
       "    .dataframe tbody tr th {\n",
       "        vertical-align: top;\n",
       "    }\n",
       "\n",
       "    .dataframe thead th {\n",
       "        text-align: right;\n",
       "    }\n",
       "</style>\n",
       "<table border=\"1\" class=\"dataframe\">\n",
       "  <thead>\n",
       "    <tr style=\"text-align: right;\">\n",
       "      <th></th>\n",
       "      <th>ICAO</th>\n",
       "      <th>city_id</th>\n",
       "    </tr>\n",
       "  </thead>\n",
       "  <tbody>\n",
       "    <tr>\n",
       "      <th>0</th>\n",
       "      <td>EDDB</td>\n",
       "      <td>1</td>\n",
       "    </tr>\n",
       "    <tr>\n",
       "      <th>1</th>\n",
       "      <td>EGLL</td>\n",
       "      <td>2</td>\n",
       "    </tr>\n",
       "  </tbody>\n",
       "</table>\n",
       "</div>"
      ],
      "text/plain": [
       "   ICAO  city_id\n",
       "0  EDDB        1\n",
       "1  EGLL        2"
      ]
     },
     "execution_count": 12,
     "metadata": {},
     "output_type": "execute_result"
    }
   ],
   "source": [
    "airports_df = pd.DataFrame(airports_dict)\n",
    "airports_df"
   ]
  },
  {
   "cell_type": "code",
   "execution_count": 13,
   "id": "72d2f4cc-0587-4c05-ba8b-bf1d415ff9c9",
   "metadata": {},
   "outputs": [
    {
     "data": {
      "text/plain": [
       "2"
      ]
     },
     "execution_count": 13,
     "metadata": {},
     "output_type": "execute_result"
    }
   ],
   "source": [
    "#send to sql\n",
    "airports_df.to_sql('airport',if_exists='append',index=False, con=connection_string)"
   ]
  },
  {
   "cell_type": "code",
   "execution_count": null,
   "id": "12261596-e8a0-445e-a8e6-a1fd882a7c6f",
   "metadata": {},
   "outputs": [],
   "source": []
  }
 ],
 "metadata": {
  "kernelspec": {
   "display_name": "Python 3 (ipykernel)",
   "language": "python",
   "name": "python3"
  },
  "language_info": {
   "codemirror_mode": {
    "name": "ipython",
    "version": 3
   },
   "file_extension": ".py",
   "mimetype": "text/x-python",
   "name": "python",
   "nbconvert_exporter": "python",
   "pygments_lexer": "ipython3",
   "version": "3.11.7"
  }
 },
 "nbformat": 4,
 "nbformat_minor": 5
}
